{
 "cells": [
  {
   "cell_type": "code",
   "execution_count": 3,
   "metadata": {},
   "outputs": [],
   "source": [
    "import pandas as pd\n",
    "import numpy as np"
   ]
  },
  {
   "cell_type": "code",
   "execution_count": 8,
   "metadata": {},
   "outputs": [],
   "source": [
    "congress = pd.read_csv('../data/congress.csv')"
   ]
  },
  {
   "cell_type": "code",
   "execution_count": 9,
   "metadata": {},
   "outputs": [],
   "source": [
    "committee_assignments = pd.read_csv('../data/committee_assignments.csv')"
   ]
  },
  {
   "cell_type": "code",
   "execution_count": 11,
   "metadata": {},
   "outputs": [],
   "source": [
    "chairs = pd.read_csv('../data/chairs.csv')"
   ]
  },
  {
   "cell_type": "code",
   "execution_count": 14,
   "metadata": {},
   "outputs": [],
   "source": [
    "party_leadership = pd.read_csv('../data/party_leadership.csv')"
   ]
  },
  {
   "cell_type": "code",
   "execution_count": 15,
   "metadata": {},
   "outputs": [],
   "source": [
    "congressional_black_caucus = pd.read_csv('../data/congressional_black_caucus.csv')"
   ]
  },
  {
   "cell_type": "markdown",
   "metadata": {},
   "source": [
    "### Questions\n",
    "#### Congress\n",
    "Which state has the most Black-Americans in congress?<br>\n",
    "Have Black-American congressmen served mostly in the house or the senate?<br>\n",
    "Which party are they most commonly affiliated with?<br>\n",
    "When did the first Black woman serve in congress?<br>\n",
    "Who are the longest serving Black-Americans in congress?<br>\n",
    "\n",
    "#### Committee Assignments\n",
    "Which committees have had the most Black-Americans historically? The least?<br>\n",
    "What are the different types of committees?<br>\n",
    "Have any committees seen a decline in Black-American presence? An increase?<br>\n",
    "What are the differences between Standing, Joint, and Select committees?<br>\n",
    "\n",
    "#### Chairs\n",
    "What information is here that is not in the committee assignments table?<br>\n",
    "Why doesn't this information date back earlier than 1949?<br>\n",
    "Which committees have the most Black-American's chaired in this time period?<br>\n",
    "What is the difference between a standing and a joint house committee in this instance?<br>\n",
    "\n",
    "#### Subcommittees\n",
    "Which subcommittees have Black-Americans chaired most? Least?<br>\n",
    "\n",
    "#### Party Leadership\n",
    "What is the difference between a caucus and a conference?<br>\n",
    "Which leadership positions were held most by Black-Americans? Least?<br>\n",
    "Who is the longest serving Black-American leader in congress?<br>\n",
    "\n",
    "#### Congressional Black Caucus\n",
    "Why were the sessions divided into two until 1977? What changed?<br>\n",
    "\n",
    "### Notes\n",
    "Legislative Re-Organization Act of 1946<br>\n",
    "1971 Congressional Black Caucus<br>\n"
   ]
  },
  {
   "cell_type": "code",
   "execution_count": null,
   "metadata": {},
   "outputs": [],
   "source": []
  }
 ],
 "metadata": {
  "kernelspec": {
   "display_name": "Python 3",
   "language": "python",
   "name": "python3"
  },
  "language_info": {
   "codemirror_mode": {
    "name": "ipython",
    "version": 3
   },
   "file_extension": ".py",
   "mimetype": "text/x-python",
   "name": "python",
   "nbconvert_exporter": "python",
   "pygments_lexer": "ipython3",
   "version": "3.7.3"
  }
 },
 "nbformat": 4,
 "nbformat_minor": 2
}
